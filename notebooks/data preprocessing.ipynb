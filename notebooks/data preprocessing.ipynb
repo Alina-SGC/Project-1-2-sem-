{
 "cells": [
  {
   "cell_type": "code",
   "execution_count": 11,
   "id": "efb31ba1-24ae-40fd-b951-50757db13320",
   "metadata": {},
   "outputs": [],
   "source": [
    "import pandas as pd\n",
    "\n",
    "# Загружаем данные из Excel\n",
    "df = pd.read_excel('data-event.xlsx')\n",
    "\n",
    "# Удаляем \"от\", символы \"₽\" и пробелы, оставляя только цифры\n",
    "df['Цена'] = df['Цена'].str.replace(r'от\\s*|\\s*₽|\\s+', '', regex=True)\n",
    "df['Цена'] = pd.to_numeric(df['Цена'], errors='coerce')\n",
    "\n",
    "# Сохраняем обработанные данные в новый Excel файл\n",
    "df.to_excel('new_data-event.xlsx', index=False)"
   ]
  }
 ],
 "metadata": {
  "kernelspec": {
   "display_name": "Python 3 (ipykernel)",
   "language": "python",
   "name": "python3"
  },
  "language_info": {
   "codemirror_mode": {
    "name": "ipython",
    "version": 3
   },
   "file_extension": ".py",
   "mimetype": "text/x-python",
   "name": "python",
   "nbconvert_exporter": "python",
   "pygments_lexer": "ipython3",
   "version": "3.12.2"
  }
 },
 "nbformat": 4,
 "nbformat_minor": 5
}
